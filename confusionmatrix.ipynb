{
 "cells": [
  {
   "cell_type": "code",
   "execution_count": 3,
   "id": "52112fd3-ea82-4e04-8c1d-2de6b1b7fa6f",
   "metadata": {},
   "outputs": [
    {
     "name": "stdout",
     "output_type": "stream",
     "text": [
      "Most sold product ID: 7\n",
      "Quantity sold: 7\n",
      "Product details:\n",
      "order_id           7\n",
      "cust id            2\n",
      "prod id            7\n",
      "date        4.4.2024\n",
      "quantity           7\n",
      "Name: 6, dtype: object\n"
     ]
    }
   ],
   "source": [
    "import pandas as pd\n",
    "\n",
    "# Load sales data into a DataFrame\n",
    "sales_data = pd.read_csv('D:\\downloads\\orders.csv')\n",
    "\n",
    "# Group by product ID and sum the quantities sold\n",
    "product_sales = sales_data.groupby('prod id')['quantity'].sum()\n",
    "\n",
    "# Find the product with the highest total quantity sold\n",
    "most_sold_product_id = product_sales.idxmax()\n",
    "most_sold_quantity = product_sales.max()\n",
    "\n",
    "# Get the product details for the most sold product\n",
    "most_sold_product_details = sales_data.loc[sales_data['prod id'] == most_sold_product_id].iloc[0]\n",
    "\n",
    "print(\"Most sold product ID:\", most_sold_product_id)\n",
    "print(\"Quantity sold:\", most_sold_quantity)\n",
    "print(\"Product details:\")\n",
    "print(most_sold_product_details)\n"
   ]
  },
  {
   "cell_type": "code",
   "execution_count": 5,
   "id": "58632c79-d275-4262-b4a7-8959afb0424d",
   "metadata": {},
   "outputs": [
    {
     "name": "stdout",
     "output_type": "stream",
     "text": [
      "Most sold product ID: 7\n",
      "Quantity sold: 7\n"
     ]
    }
   ],
   "source": [
    "import pandas as pd\n",
    "\n",
    "# Load the orders data\n",
    "orders_df = pd.read_csv('D:\\downloads\\orders.csv')\n",
    "\n",
    "# Group by product ID and sum the quantities sold\n",
    "product_sales = orders_df.groupby('prod id')['quantity'].sum()\n",
    "\n",
    "# Find the product with the highest total quantity sold\n",
    "most_sold_product_id = product_sales.idxmax()\n",
    "most_sold_quantity = product_sales.max()\n",
    "\n",
    "print(\"Most sold product ID:\", most_sold_product_id)\n",
    "print(\"Quantity sold:\", most_sold_quantity)\n"
   ]
  },
  {
   "cell_type": "code",
   "execution_count": 11,
   "id": "c6483f50-b2c0-41ee-81ff-19b863b86182",
   "metadata": {},
   "outputs": [
    {
     "name": "stdout",
     "output_type": "stream",
     "text": [
      "Confusion Matrix:\n",
      "[[2]]\n",
      "Accuracy: 1.0\n"
     ]
    }
   ],
   "source": [
    "import pandas as pd\n",
    "from sklearn.model_selection import train_test_split\n",
    "from sklearn.naive_bayes import BernoulliNB\n",
    "from sklearn.metrics import confusion_matrix, accuracy_score\n",
    "\n",
    "# Load the orders data\n",
    "orders_df = pd.read_csv('D:\\downloads\\orders.csv')\n",
    "\n",
    "# Define a binary target variable based on certain conditions (e.g., high-value order)\n",
    "threshold = 100  # Example threshold for high-value order\n",
    "orders_df['is_high_value'] = (orders_df['prod id'] > threshold).astype(int)\n",
    "\n",
    "# Select features and target variable\n",
    "X = orders_df[['quantity']]  # Example feature\n",
    "y = orders_df['is_high_value']\n",
    "\n",
    "# Split the data into training and testing sets\n",
    "X_train, X_test, y_train, y_test = train_test_split(X, y, test_size=0.2, random_state=42)\n",
    "\n",
    "# Train a Bernoulli Naive Bayes classifier\n",
    "model = BernoulliNB()\n",
    "model.fit(X_train, y_train)\n",
    "\n",
    "# Predict the labels on the test set\n",
    "y_pred = model.predict(X_test)\n",
    "\n",
    "# Compute the confusion matrix\n",
    "cm = confusion_matrix(y_test, y_pred)\n",
    "\n",
    "# Print the confusion matrix\n",
    "print(\"Confusion Matrix:\")\n",
    "print(cm)\n",
    "\n",
    "# Compute the accuracy of the model\n",
    "accuracy = accuracy_score(y_test, y_pred)\n",
    "print(\"Accuracy:\", accuracy)\n"
   ]
  },
  {
   "cell_type": "code",
   "execution_count": 12,
   "id": "91d97dc5-c0b3-41fe-9ca8-e3dd0644cac6",
   "metadata": {},
   "outputs": [],
   "source": [
    "import numpy as np"
   ]
  },
  {
   "cell_type": "code",
   "execution_count": 13,
   "id": "88673b7a-cfd3-4cb7-bf44-83b304273cff",
   "metadata": {},
   "outputs": [],
   "source": [
    "s = 5\n"
   ]
  },
  {
   "cell_type": "code",
   "execution_count": 15,
   "id": "543210f4-d811-444a-a0a9-ce21664e49ad",
   "metadata": {},
   "outputs": [
    {
     "data": {
      "text/plain": [
       "5"
      ]
     },
     "execution_count": 15,
     "metadata": {},
     "output_type": "execute_result"
    }
   ],
   "source": [
    "s"
   ]
  },
  {
   "cell_type": "code",
   "execution_count": 16,
   "id": "3b3bc605-afa3-4cc4-8e00-1b3197ef1ba6",
   "metadata": {},
   "outputs": [],
   "source": [
    "v = np.array([5,-2,4])"
   ]
  },
  {
   "cell_type": "code",
   "execution_count": 18,
   "id": "903ef17f-267f-4b47-b0bd-d14079a07131",
   "metadata": {},
   "outputs": [
    {
     "data": {
      "text/plain": [
       "array([ 5, -2,  4])"
      ]
     },
     "execution_count": 18,
     "metadata": {},
     "output_type": "execute_result"
    }
   ],
   "source": [
    "v"
   ]
  },
  {
   "cell_type": "code",
   "execution_count": 19,
   "id": "8e037326-5882-4977-a8d0-441dbbdf8516",
   "metadata": {},
   "outputs": [],
   "source": [
    "m = np.array([[5,12,6],[4,-6,4]])"
   ]
  },
  {
   "cell_type": "code",
   "execution_count": 21,
   "id": "1abe6428-6a13-4956-af84-69f30d469681",
   "metadata": {},
   "outputs": [
    {
     "data": {
      "text/plain": [
       "array([[ 5, 12,  6],\n",
       "       [ 4, -6,  4]])"
      ]
     },
     "execution_count": 21,
     "metadata": {},
     "output_type": "execute_result"
    }
   ],
   "source": [
    "m"
   ]
  },
  {
   "cell_type": "code",
   "execution_count": 22,
   "id": "6a9a0423-733c-48bd-971b-2ccfe56e1381",
   "metadata": {},
   "outputs": [
    {
     "data": {
      "text/plain": [
       "int"
      ]
     },
     "execution_count": 22,
     "metadata": {},
     "output_type": "execute_result"
    }
   ],
   "source": [
    "type(s)\n"
   ]
  },
  {
   "cell_type": "code",
   "execution_count": 23,
   "id": "11cea6f5-a4c1-48a0-a14a-bcfd5d69c1bc",
   "metadata": {},
   "outputs": [
    {
     "data": {
      "text/plain": [
       "numpy.ndarray"
      ]
     },
     "execution_count": 23,
     "metadata": {},
     "output_type": "execute_result"
    }
   ],
   "source": [
    "type(v)"
   ]
  },
  {
   "cell_type": "code",
   "execution_count": 24,
   "id": "6e1cf2d7-60f5-46ed-850c-02b750c0f7ce",
   "metadata": {},
   "outputs": [
    {
     "data": {
      "text/plain": [
       "numpy.ndarray"
      ]
     },
     "execution_count": 24,
     "metadata": {},
     "output_type": "execute_result"
    }
   ],
   "source": [
    "type(m)"
   ]
  },
  {
   "cell_type": "code",
   "execution_count": 26,
   "id": "0379d73b-fcf9-4eab-918e-5d38710cc644",
   "metadata": {},
   "outputs": [
    {
     "data": {
      "text/plain": [
       "array(5)"
      ]
     },
     "execution_count": 26,
     "metadata": {},
     "output_type": "execute_result"
    }
   ],
   "source": [
    "s_array = np.array(s)\n",
    "s_array"
   ]
  },
  {
   "cell_type": "code",
   "execution_count": 27,
   "id": "7b6ab1de-f24f-4aae-88ba-2a7af644cd63",
   "metadata": {},
   "outputs": [
    {
     "data": {
      "text/plain": [
       "numpy.ndarray"
      ]
     },
     "execution_count": 27,
     "metadata": {},
     "output_type": "execute_result"
    }
   ],
   "source": [
    "type(s_array)\n"
   ]
  },
  {
   "cell_type": "code",
   "execution_count": 29,
   "id": "e3895a9c-798b-4b26-9c61-b730ad460304",
   "metadata": {},
   "outputs": [
    {
     "data": {
      "text/plain": [
       "(2, 3)"
      ]
     },
     "execution_count": 29,
     "metadata": {},
     "output_type": "execute_result"
    }
   ],
   "source": [
    "m.shape\n"
   ]
  },
  {
   "cell_type": "code",
   "execution_count": 31,
   "id": "05588da5-b497-4b31-9c86-d50edeffc6ba",
   "metadata": {},
   "outputs": [
    {
     "data": {
      "text/plain": [
       "array([[ 5, -2,  4]])"
      ]
     },
     "execution_count": 31,
     "metadata": {},
     "output_type": "execute_result"
    }
   ],
   "source": [
    "v.reshape(1,3)"
   ]
  },
  {
   "cell_type": "code",
   "execution_count": 38,
   "id": "be937765-3620-4685-a3db-64c4321cd1ce",
   "metadata": {},
   "outputs": [
    {
     "data": {
      "text/plain": [
       "array([[ 1,  2,  3],\n",
       "       [15,  6,  7]])"
      ]
     },
     "execution_count": 38,
     "metadata": {},
     "output_type": "execute_result"
    }
   ],
   "source": [
    "t_manual = np.array([[1,2,3],[15,6,7]])\n",
    "t_manual"
   ]
  },
  {
   "cell_type": "code",
   "execution_count": 35,
   "id": "5f120052-9508-4ee2-822a-d29f5c3bab4f",
   "metadata": {},
   "outputs": [
    {
     "data": {
      "text/plain": [
       "array([[ 5,  1,  5],\n",
       "       [ 3, -9,  8]])"
      ]
     },
     "execution_count": 35,
     "metadata": {},
     "output_type": "execute_result"
    }
   ],
   "source": [
    "m1 = np.array([[5,1,5],[3,-9,8]])\n",
    "m1"
   ]
  },
  {
   "cell_type": "code",
   "execution_count": 39,
   "id": "cdba2581-070e-468a-ab39-698534b939b6",
   "metadata": {},
   "outputs": [
    {
     "data": {
      "text/plain": [
       "array([[ 75, 941,  50],\n",
       "       [  8, -90,  86]])"
      ]
     },
     "execution_count": 39,
     "metadata": {},
     "output_type": "execute_result"
    }
   ],
   "source": [
    "m2 = np.array([[75,941,50],[8,-90,86]])\n",
    "m2"
   ]
  },
  {
   "cell_type": "code",
   "execution_count": 41,
   "id": "2d4ee99f-aa78-4766-8931-fc9e2030632f",
   "metadata": {},
   "outputs": [
    {
     "data": {
      "text/plain": [
       "array([[[  5,   1,   5],\n",
       "        [  3,  -9,   8]],\n",
       "\n",
       "       [[ 75, 941,  50],\n",
       "        [  8, -90,  86]]])"
      ]
     },
     "execution_count": 41,
     "metadata": {},
     "output_type": "execute_result"
    }
   ],
   "source": [
    "t = np.array([m1,m2])\n",
    "t"
   ]
  },
  {
   "cell_type": "code",
   "execution_count": 43,
   "id": "213462e5-398f-4b17-8a13-d01143236294",
   "metadata": {},
   "outputs": [
    {
     "data": {
      "text/plain": [
       "(2, 2, 3)"
      ]
     },
     "execution_count": 43,
     "metadata": {},
     "output_type": "execute_result"
    }
   ],
   "source": [
    "t.shape"
   ]
  },
  {
   "cell_type": "code",
   "execution_count": 45,
   "id": "0c7f9fc8-4c30-489d-bfbc-a459f98e60c9",
   "metadata": {},
   "outputs": [
    {
     "data": {
      "text/plain": [
       "array([[ 80, 942,  55],\n",
       "       [ 11, -99,  94]])"
      ]
     },
     "execution_count": 45,
     "metadata": {},
     "output_type": "execute_result"
    }
   ],
   "source": [
    "m1+ m2"
   ]
  },
  {
   "cell_type": "code",
   "execution_count": 47,
   "id": "c216eb9a-99fb-4c6b-ac09-9c8376aac02b",
   "metadata": {},
   "outputs": [
    {
     "data": {
      "text/plain": [
       "array([[ 70, 940,  45],\n",
       "       [  5, -81,  78]])"
      ]
     },
     "execution_count": 47,
     "metadata": {},
     "output_type": "execute_result"
    }
   ],
   "source": [
    "m2 - m1"
   ]
  },
  {
   "cell_type": "code",
   "execution_count": 49,
   "id": "e18acc78-9096-4857-8b39-3e6b3b8a26af",
   "metadata": {},
   "outputs": [],
   "source": [
    "v1 = np.array([1,2,3,4,5])\n",
    "v2 = np.array([8,2,3,4,9])"
   ]
  },
  {
   "cell_type": "code",
   "execution_count": 51,
   "id": "f092e37b-a8e5-4da5-a4cb-83884601aa92",
   "metadata": {},
   "outputs": [
    {
     "data": {
      "text/plain": [
       "array([ 9,  4,  6,  8, 14])"
      ]
     },
     "execution_count": 51,
     "metadata": {},
     "output_type": "execute_result"
    }
   ],
   "source": [
    "v1 + v2"
   ]
  },
  {
   "cell_type": "code",
   "execution_count": 53,
   "id": "faf0077b-cecf-447e-bf63-baa7bd5d76ad",
   "metadata": {},
   "outputs": [
    {
     "data": {
      "text/plain": [
       "array([-7,  0,  0,  0, -4])"
      ]
     },
     "execution_count": 53,
     "metadata": {},
     "output_type": "execute_result"
    }
   ],
   "source": [
    "v1 - v2"
   ]
  },
  {
   "cell_type": "code",
   "execution_count": 54,
   "id": "2830732e-5b09-4938-b828-83aaf6c1aa4a",
   "metadata": {},
   "outputs": [
    {
     "data": {
      "text/plain": [
       "array([[ 6,  2,  6],\n",
       "       [ 4, -8,  9]])"
      ]
     },
     "execution_count": 54,
     "metadata": {},
     "output_type": "execute_result"
    }
   ],
   "source": [
    "m1 + 1"
   ]
  },
  {
   "cell_type": "code",
   "execution_count": 56,
   "id": "83db315e-b53c-4331-a08b-6c384b8cfbda",
   "metadata": {},
   "outputs": [
    {
     "data": {
      "text/plain": [
       "array([2, 3, 4, 5, 6])"
      ]
     },
     "execution_count": 56,
     "metadata": {},
     "output_type": "execute_result"
    }
   ],
   "source": [
    "v1 + 1"
   ]
  },
  {
   "cell_type": "code",
   "execution_count": 59,
   "id": "c751ee1d-1d8f-4ef3-9573-a1c400920539",
   "metadata": {},
   "outputs": [
    {
     "data": {
      "text/plain": [
       "array([2, 3, 4, 5, 6])"
      ]
     },
     "execution_count": 59,
     "metadata": {},
     "output_type": "execute_result"
    }
   ],
   "source": [
    "v1 + np.array([1])"
   ]
  },
  {
   "cell_type": "code",
   "execution_count": 62,
   "id": "badc76b0-2073-4f48-bcd4-33aed56ad133",
   "metadata": {},
   "outputs": [
    {
     "data": {
      "text/plain": [
       "array([[ 5,  3],\n",
       "       [ 1, -9],\n",
       "       [ 5,  8]])"
      ]
     },
     "execution_count": 62,
     "metadata": {},
     "output_type": "execute_result"
    }
   ],
   "source": [
    "m1.T"
   ]
  },
  {
   "cell_type": "code",
   "execution_count": 64,
   "id": "817af9b0-bc9f-4aed-9793-988eea2d83e4",
   "metadata": {},
   "outputs": [
    {
     "data": {
      "text/plain": [
       "array([[ 25,   5,  25],\n",
       "       [ 15, -45,  40]])"
      ]
     },
     "execution_count": 64,
     "metadata": {},
     "output_type": "execute_result"
    }
   ],
   "source": [
    "5*m1"
   ]
  },
  {
   "cell_type": "code",
   "execution_count": 66,
   "id": "13923d9e-ae9d-4f15-a0d4-0e030555e716",
   "metadata": {},
   "outputs": [
    {
     "data": {
      "text/plain": [
       "82"
      ]
     },
     "execution_count": 66,
     "metadata": {},
     "output_type": "execute_result"
    }
   ],
   "source": [
    "np.dot(v1,v2)"
   ]
  },
  {
   "cell_type": "code",
   "execution_count": 71,
   "id": "aa1474d4-bb85-436f-91f1-f10ab5d5050a",
   "metadata": {},
   "outputs": [
    {
     "data": {
      "text/plain": [
       "array([[[ 5,  1],\n",
       "        [ 3, -9],\n",
       "        [ 8,  6]]])"
      ]
     },
     "execution_count": 71,
     "metadata": {},
     "output_type": "execute_result"
    }
   ],
   "source": [
    "m3 = np.array([[[5,1],[3,-9],[8,6]]])\n",
    "m3"
   ]
  },
  {
   "cell_type": "code",
   "execution_count": 74,
   "id": "c3a4254c-1ecf-4f01-8620-d651c4bb4e2f",
   "metadata": {},
   "outputs": [
    {
     "data": {
      "text/plain": [
       "array([[[ 68,  26]],\n",
       "\n",
       "       [[ 52, 132]]])"
      ]
     },
     "execution_count": 74,
     "metadata": {},
     "output_type": "execute_result"
    }
   ],
   "source": [
    "np.dot(m1,m3)"
   ]
  },
  {
   "cell_type": "code",
   "execution_count": null,
   "id": "22e0a3a8-bc7e-4595-8bee-945c50ece2df",
   "metadata": {},
   "outputs": [],
   "source": []
  }
 ],
 "metadata": {
  "kernelspec": {
   "display_name": "Python 3 (ipykernel)",
   "language": "python",
   "name": "python3"
  },
  "language_info": {
   "codemirror_mode": {
    "name": "ipython",
    "version": 3
   },
   "file_extension": ".py",
   "mimetype": "text/x-python",
   "name": "python",
   "nbconvert_exporter": "python",
   "pygments_lexer": "ipython3",
   "version": "3.11.7"
  }
 },
 "nbformat": 4,
 "nbformat_minor": 5
}
