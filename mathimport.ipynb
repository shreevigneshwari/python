{
 "cells": [
  {
   "cell_type": "code",
   "execution_count": 1,
   "id": "49f8ea40-6cb0-4dd4-aa6e-5d71d4eeb149",
   "metadata": {},
   "outputs": [],
   "source": [
    "import math\n"
   ]
  },
  {
   "cell_type": "code",
   "execution_count": 3,
   "id": "900dd189-d83e-465b-b5a7-0d9bb4b4ef0e",
   "metadata": {},
   "outputs": [
    {
     "data": {
      "text/plain": [
       "4.0"
      ]
     },
     "execution_count": 3,
     "metadata": {},
     "output_type": "execute_result"
    }
   ],
   "source": [
    "math.sqrt(16)\n"
   ]
  },
  {
   "cell_type": "code",
   "execution_count": 6,
   "id": "77c85399-42ff-4e42-8492-97dfc4692f8d",
   "metadata": {},
   "outputs": [],
   "source": [
    "from math import sqrt"
   ]
  },
  {
   "cell_type": "code",
   "execution_count": 7,
   "id": "552240ad-ec0a-4bf0-8a4d-aae533b29cd1",
   "metadata": {},
   "outputs": [
    {
     "data": {
      "text/plain": [
       "5.0"
      ]
     },
     "execution_count": 7,
     "metadata": {},
     "output_type": "execute_result"
    }
   ],
   "source": [
    "sqrt(25)"
   ]
  },
  {
   "cell_type": "code",
   "execution_count": 9,
   "id": "c907142e-3c7e-42d0-97df-179987e416ac",
   "metadata": {},
   "outputs": [],
   "source": [
    "from math import sqrt as s\n"
   ]
  },
  {
   "cell_type": "code",
   "execution_count": 11,
   "id": "67d8e6b0-34e5-4c68-abd7-dc299190aec9",
   "metadata": {},
   "outputs": [
    {
     "data": {
      "text/plain": [
       "6.0"
      ]
     },
     "execution_count": 11,
     "metadata": {},
     "output_type": "execute_result"
    }
   ],
   "source": [
    "s(36)"
   ]
  },
  {
   "cell_type": "code",
   "execution_count": 12,
   "id": "7e88161c-afd5-41f0-b81c-ad3cbfeed577",
   "metadata": {},
   "outputs": [],
   "source": [
    "import math as m\n"
   ]
  },
  {
   "cell_type": "code",
   "execution_count": 14,
   "id": "eb75dfac-4f8c-454c-8f5b-4ac6f9e6ba20",
   "metadata": {},
   "outputs": [
    {
     "data": {
      "text/plain": [
       "7.0"
      ]
     },
     "execution_count": 14,
     "metadata": {},
     "output_type": "execute_result"
    }
   ],
   "source": [
    "m.sqrt(49)"
   ]
  },
  {
   "cell_type": "code",
   "execution_count": 15,
   "id": "466a6762-1919-4fe4-b6a6-270eaeb4f7e3",
   "metadata": {},
   "outputs": [],
   "source": [
    "from math import *"
   ]
  },
  {
   "cell_type": "code",
   "execution_count": 17,
   "id": "b75667cb-c402-4a05-a632-23649c11cb97",
   "metadata": {},
   "outputs": [
    {
     "data": {
      "text/plain": [
       "8.0"
      ]
     },
     "execution_count": 17,
     "metadata": {},
     "output_type": "execute_result"
    }
   ],
   "source": [
    "sqrt(64)\n"
   ]
  },
  {
   "cell_type": "code",
   "execution_count": null,
   "id": "09a5da7f-e4d7-4abb-9ee7-81f8f4a37b08",
   "metadata": {},
   "outputs": [],
   "source": []
  }
 ],
 "metadata": {
  "kernelspec": {
   "display_name": "Python 3 (ipykernel)",
   "language": "python",
   "name": "python3"
  },
  "language_info": {
   "codemirror_mode": {
    "name": "ipython",
    "version": 3
   },
   "file_extension": ".py",
   "mimetype": "text/x-python",
   "name": "python",
   "nbconvert_exporter": "python",
   "pygments_lexer": "ipython3",
   "version": "3.11.7"
  }
 },
 "nbformat": 4,
 "nbformat_minor": 5
}
