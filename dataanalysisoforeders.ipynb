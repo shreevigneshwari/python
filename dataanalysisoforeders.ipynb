{
 "cells": [
  {
   "cell_type": "code",
   "execution_count": 8,
   "id": "9d85be31-75f4-43cb-a76e-a563999a710f",
   "metadata": {},
   "outputs": [
    {
     "name": "stdout",
     "output_type": "stream",
     "text": [
      "   prod_id extracted_prod_ids  cust_id cust_id_replaced\n",
      "0        1                [1]        7         [NUMBER]\n",
      "1        2                [2]        8         [NUMBER]\n",
      "2        3                [3]        6         [NUMBER]\n",
      "3        4                [4]        4         [NUMBER]\n",
      "4        5                [5]        5         [NUMBER]\n",
      "5        6                [6]        3         [NUMBER]\n",
      "6        7                [7]        2         [NUMBER]\n",
      "7        8                [8]        1         [NUMBER]\n"
     ]
    }
   ],
   "source": [
    "import pandas as pd\n",
    "import re\n",
    "\n",
    "# Load the data\n",
    "file_path = 'D:\\downloads\\orders.csv'\n",
    "orders_df = pd.read_csv('D:\\downloads\\orders.csv')\n",
    "\n",
    "# Rename columns for better readability\n",
    "orders_df.rename(columns={'cust id': 'cust_id', 'prod id': 'prod_id'}, inplace=True)\n",
    "\n",
    "# Example: Extract product IDs that match a certain pattern\n",
    "pattern = r'\\d+'\n",
    "\n",
    "# Assuming 'prod_id' contains numeric IDs\n",
    "orders_df['extracted_prod_ids'] = orders_df['prod_id'].apply(lambda x: re.findall(pattern, str(x)))\n",
    "\n",
    "# Example: Replace all digits in 'cust_id' with a placeholder\n",
    "orders_df['cust_id_replaced'] = orders_df['cust_id'].apply(lambda x: re.sub(pattern, '[NUMBER]', str(x)))\n",
    "\n",
    "print(orders_df[['prod_id', 'extracted_prod_ids', 'cust_id', 'cust_id_replaced']])\n"
   ]
  },
  {
   "cell_type": "code",
   "execution_count": 9,
   "id": "e3312d0d-96e7-4e5b-9ed1-79958947bcf3",
   "metadata": {},
   "outputs": [
    {
     "name": "stdout",
     "output_type": "stream",
     "text": [
      "   prod id product  price category\n",
      "0        1       A    694     sofa\n",
      "1        2       B    569     sofa\n",
      "2        3       C    639     sofa\n",
      "3        4       D    521      bed\n",
      "4        5       E    235    table\n",
      "Index(['prod id', 'product', 'price', 'category'], dtype='object')\n",
      "prod id      int64\n",
      "product     object\n",
      "price        int64\n",
      "category    object\n",
      "dtype: object\n"
     ]
    },
    {
     "name": "stderr",
     "output_type": "stream",
     "text": [
      "D:\\anaconda\\Lib\\site-packages\\statsmodels\\regression\\linear_model.py:1716: RuntimeWarning: divide by zero encountered in scalar divide\n",
      "  return np.dot(wresid, wresid) / self.df_resid\n"
     ]
    },
    {
     "ename": "ValueError",
     "evalue": "r_matrix performs f_test for using dimensions that are asymptotically non-normal",
     "output_type": "error",
     "traceback": [
      "\u001b[1;31m---------------------------------------------------------------------------\u001b[0m",
      "\u001b[1;31mValueError\u001b[0m                                Traceback (most recent call last)",
      "Cell \u001b[1;32mIn[9], line 30\u001b[0m\n\u001b[0;32m     27\u001b[0m model \u001b[38;5;241m=\u001b[39m ols(\u001b[38;5;124m'\u001b[39m\u001b[38;5;124mprice ~ C(product)\u001b[39m\u001b[38;5;124m'\u001b[39m, data\u001b[38;5;241m=\u001b[39mproducts_df)\u001b[38;5;241m.\u001b[39mfit()\n\u001b[0;32m     29\u001b[0m \u001b[38;5;66;03m# Perform the ANOVA\u001b[39;00m\n\u001b[1;32m---> 30\u001b[0m anova_table \u001b[38;5;241m=\u001b[39m sm\u001b[38;5;241m.\u001b[39mstats\u001b[38;5;241m.\u001b[39manova_lm(model, typ\u001b[38;5;241m=\u001b[39m\u001b[38;5;241m2\u001b[39m)\n\u001b[0;32m     32\u001b[0m \u001b[38;5;66;03m# Print the ANOVA table\u001b[39;00m\n\u001b[0;32m     33\u001b[0m \u001b[38;5;28mprint\u001b[39m(anova_table)\n",
      "File \u001b[1;32mD:\\anaconda\\Lib\\site-packages\\statsmodels\\stats\\anova.py:349\u001b[0m, in \u001b[0;36manova_lm\u001b[1;34m(*args, **kwargs)\u001b[0m\n\u001b[0;32m    347\u001b[0m \u001b[38;5;28;01mif\u001b[39;00m \u001b[38;5;28mlen\u001b[39m(args) \u001b[38;5;241m==\u001b[39m \u001b[38;5;241m1\u001b[39m:\n\u001b[0;32m    348\u001b[0m     model \u001b[38;5;241m=\u001b[39m args[\u001b[38;5;241m0\u001b[39m]\n\u001b[1;32m--> 349\u001b[0m     \u001b[38;5;28;01mreturn\u001b[39;00m anova_single(model, \u001b[38;5;241m*\u001b[39m\u001b[38;5;241m*\u001b[39mkwargs)\n\u001b[0;32m    351\u001b[0m \u001b[38;5;28;01mif\u001b[39;00m typ \u001b[38;5;129;01mnot\u001b[39;00m \u001b[38;5;129;01min\u001b[39;00m [\u001b[38;5;241m1\u001b[39m, \u001b[38;5;124m\"\u001b[39m\u001b[38;5;124mI\u001b[39m\u001b[38;5;124m\"\u001b[39m]:\n\u001b[0;32m    352\u001b[0m     \u001b[38;5;28;01mraise\u001b[39;00m \u001b[38;5;167;01mValueError\u001b[39;00m(\u001b[38;5;124m\"\u001b[39m\u001b[38;5;124mMultiple models only supported for type I. \u001b[39m\u001b[38;5;124m\"\u001b[39m\n\u001b[0;32m    353\u001b[0m                      \u001b[38;5;124m\"\u001b[39m\u001b[38;5;124mGot type \u001b[39m\u001b[38;5;132;01m%s\u001b[39;00m\u001b[38;5;124m\"\u001b[39m \u001b[38;5;241m%\u001b[39m \u001b[38;5;28mstr\u001b[39m(typ))\n",
      "File \u001b[1;32mD:\\anaconda\\Lib\\site-packages\\statsmodels\\stats\\anova.py:80\u001b[0m, in \u001b[0;36manova_single\u001b[1;34m(model, **kwargs)\u001b[0m\n\u001b[0;32m     77\u001b[0m     \u001b[38;5;28;01mreturn\u001b[39;00m anova1_lm_single(model, endog, exog, nobs, design_info, table,\n\u001b[0;32m     78\u001b[0m                             n_rows, test, pr_test, robust)\n\u001b[0;32m     79\u001b[0m \u001b[38;5;28;01melif\u001b[39;00m typ \u001b[38;5;129;01min\u001b[39;00m [\u001b[38;5;241m2\u001b[39m, \u001b[38;5;124m\"\u001b[39m\u001b[38;5;124mII\u001b[39m\u001b[38;5;124m\"\u001b[39m]:\n\u001b[1;32m---> 80\u001b[0m     \u001b[38;5;28;01mreturn\u001b[39;00m anova2_lm_single(model, design_info, n_rows, test, pr_test,\n\u001b[0;32m     81\u001b[0m                             robust)\n\u001b[0;32m     82\u001b[0m \u001b[38;5;28;01melif\u001b[39;00m typ \u001b[38;5;129;01min\u001b[39;00m [\u001b[38;5;241m3\u001b[39m, \u001b[38;5;124m\"\u001b[39m\u001b[38;5;124mIII\u001b[39m\u001b[38;5;124m\"\u001b[39m]:\n\u001b[0;32m     83\u001b[0m     \u001b[38;5;28;01mreturn\u001b[39;00m anova3_lm_single(model, design_info, n_rows, test, pr_test,\n\u001b[0;32m     84\u001b[0m                             robust)\n",
      "File \u001b[1;32mD:\\anaconda\\Lib\\site-packages\\statsmodels\\stats\\anova.py:213\u001b[0m, in \u001b[0;36manova2_lm_single\u001b[1;34m(model, design_info, n_rows, test, pr_test, robust)\u001b[0m\n\u001b[0;32m    211\u001b[0m \u001b[38;5;66;03m#from IPython.core.debugger import Pdb; Pdb().set_trace()\u001b[39;00m\n\u001b[0;32m    212\u001b[0m \u001b[38;5;28;01mif\u001b[39;00m test \u001b[38;5;241m==\u001b[39m \u001b[38;5;124m'\u001b[39m\u001b[38;5;124mF\u001b[39m\u001b[38;5;124m'\u001b[39m:\n\u001b[1;32m--> 213\u001b[0m     f \u001b[38;5;241m=\u001b[39m model\u001b[38;5;241m.\u001b[39mf_test(L12, cov_p\u001b[38;5;241m=\u001b[39mrobust_cov)\n\u001b[0;32m    214\u001b[0m     table\u001b[38;5;241m.\u001b[39mloc[table\u001b[38;5;241m.\u001b[39mindex[i], test] \u001b[38;5;241m=\u001b[39m test_value \u001b[38;5;241m=\u001b[39m f\u001b[38;5;241m.\u001b[39mfvalue\n\u001b[0;32m    215\u001b[0m     table\u001b[38;5;241m.\u001b[39mloc[table\u001b[38;5;241m.\u001b[39mindex[i], pr_test] \u001b[38;5;241m=\u001b[39m f\u001b[38;5;241m.\u001b[39mpvalue\n",
      "File \u001b[1;32mD:\\anaconda\\Lib\\site-packages\\statsmodels\\base\\model.py:1782\u001b[0m, in \u001b[0;36mLikelihoodModelResults.f_test\u001b[1;34m(self, r_matrix, cov_p, invcov)\u001b[0m\n\u001b[0;32m   1689\u001b[0m \u001b[38;5;28;01mdef\u001b[39;00m \u001b[38;5;21mf_test\u001b[39m(\u001b[38;5;28mself\u001b[39m, r_matrix, cov_p\u001b[38;5;241m=\u001b[39m\u001b[38;5;28;01mNone\u001b[39;00m, invcov\u001b[38;5;241m=\u001b[39m\u001b[38;5;28;01mNone\u001b[39;00m):\n\u001b[0;32m   1690\u001b[0m \u001b[38;5;250m    \u001b[39m\u001b[38;5;124;03m\"\"\"\u001b[39;00m\n\u001b[0;32m   1691\u001b[0m \u001b[38;5;124;03m    Compute the F-test for a joint linear hypothesis.\u001b[39;00m\n\u001b[0;32m   1692\u001b[0m \n\u001b[1;32m   (...)\u001b[0m\n\u001b[0;32m   1780\u001b[0m \u001b[38;5;124;03m    <F test: F=array([[ 144.17976065]]), p=6.322026217355609e-08, df_denom=9, df_num=3>\u001b[39;00m\n\u001b[0;32m   1781\u001b[0m \u001b[38;5;124;03m    \"\"\"\u001b[39;00m\n\u001b[1;32m-> 1782\u001b[0m     res \u001b[38;5;241m=\u001b[39m \u001b[38;5;28mself\u001b[39m\u001b[38;5;241m.\u001b[39mwald_test(r_matrix, cov_p\u001b[38;5;241m=\u001b[39mcov_p, invcov\u001b[38;5;241m=\u001b[39minvcov, use_f\u001b[38;5;241m=\u001b[39m\u001b[38;5;28;01mTrue\u001b[39;00m, scalar\u001b[38;5;241m=\u001b[39m\u001b[38;5;28;01mTrue\u001b[39;00m)\n\u001b[0;32m   1783\u001b[0m     \u001b[38;5;28;01mreturn\u001b[39;00m res\n",
      "File \u001b[1;32mD:\\anaconda\\Lib\\site-packages\\statsmodels\\base\\model.py:1882\u001b[0m, in \u001b[0;36mLikelihoodModelResults.wald_test\u001b[1;34m(self, r_matrix, cov_p, invcov, use_f, df_constraints, scalar)\u001b[0m\n\u001b[0;32m   1880\u001b[0m cov_p \u001b[38;5;241m=\u001b[39m \u001b[38;5;28mself\u001b[39m\u001b[38;5;241m.\u001b[39mcov_params(r_matrix\u001b[38;5;241m=\u001b[39mr_matrix, cov_p\u001b[38;5;241m=\u001b[39mcov_p)\n\u001b[0;32m   1881\u001b[0m \u001b[38;5;28;01mif\u001b[39;00m np\u001b[38;5;241m.\u001b[39misnan(cov_p)\u001b[38;5;241m.\u001b[39mmax():\n\u001b[1;32m-> 1882\u001b[0m     \u001b[38;5;28;01mraise\u001b[39;00m \u001b[38;5;167;01mValueError\u001b[39;00m(\u001b[38;5;124m\"\u001b[39m\u001b[38;5;124mr_matrix performs f_test for using \u001b[39m\u001b[38;5;124m\"\u001b[39m\n\u001b[0;32m   1883\u001b[0m                      \u001b[38;5;124m\"\u001b[39m\u001b[38;5;124mdimensions that are asymptotically \u001b[39m\u001b[38;5;124m\"\u001b[39m\n\u001b[0;32m   1884\u001b[0m                      \u001b[38;5;124m\"\u001b[39m\u001b[38;5;124mnon-normal\u001b[39m\u001b[38;5;124m\"\u001b[39m)\n\u001b[0;32m   1885\u001b[0m invcov \u001b[38;5;241m=\u001b[39m np\u001b[38;5;241m.\u001b[39mlinalg\u001b[38;5;241m.\u001b[39mpinv(cov_p)\n\u001b[0;32m   1886\u001b[0m J_ \u001b[38;5;241m=\u001b[39m np\u001b[38;5;241m.\u001b[39mlinalg\u001b[38;5;241m.\u001b[39mmatrix_rank(cov_p)\n",
      "\u001b[1;31mValueError\u001b[0m: r_matrix performs f_test for using dimensions that are asymptotically non-normal"
     ]
    }
   ],
   "source": [
    "import pandas as pd\n",
    "import statsmodels.api as sm\n",
    "from statsmodels.formula.api import ols\n",
    "import matplotlib.pyplot as plt\n",
    "import seaborn as sns\n",
    "\n",
    "# Load the data\n",
    "file_path = 'D:\\downloads\\products.csv'\n",
    "products_df = pd.read_csv('D:\\downloads\\products.csv')\n",
    "\n",
    "# Check the first few rows of the dataframe\n",
    "print(products_df.head())\n",
    "\n",
    "# Assume the dataset has columns 'product_category' and 'price'\n",
    "# If the column names are different, adjust accordingly\n",
    "# Check for correct column names\n",
    "print(products_df.columns)\n",
    "\n",
    "# Example column names assumption\n",
    "# products_df.rename(columns={'product': 'product', 'price': 'price'}, inplace=True)\n",
    "\n",
    "# Check data types and convert if necessary\n",
    "print(products_df.dtypes)\n",
    "\n",
    "# Perform ANOVA\n",
    "# Create the formula for the model\n",
    "model = ols('price ~ C(product)', data=products_df).fit()\n",
    "\n",
    "# Perform the ANOVA\n",
    "anova_table = sm.stats.anova_lm(model, typ=2)\n",
    "\n",
    "# Print the ANOVA table\n",
    "print(anova_table)\n",
    "\n",
    "# Visualize the prices for each product category to see the distribution\n",
    "plt.figure(figsize=(12, 8))\n",
    "sns.boxplot(x='product', y='price', data=products_df)\n",
    "plt.title('Price Distribution by Product Category')\n",
    "plt.xlabel('Product')\n",
    "plt.ylabel('Price')\n",
    "plt.show()\n"
   ]
  }
 ],
 "metadata": {
  "kernelspec": {
   "display_name": "Python 3 (ipykernel)",
   "language": "python",
   "name": "python3"
  },
  "language_info": {
   "codemirror_mode": {
    "name": "ipython",
    "version": 3
   },
   "file_extension": ".py",
   "mimetype": "text/x-python",
   "name": "python",
   "nbconvert_exporter": "python",
   "pygments_lexer": "ipython3",
   "version": "3.11.7"
  }
 },
 "nbformat": 4,
 "nbformat_minor": 5
}
