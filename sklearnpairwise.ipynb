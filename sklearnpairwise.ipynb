{
 "cells": [
  {
   "cell_type": "code",
   "execution_count": 1,
   "id": "9dc646cb-a3fb-48a6-b8ae-c18eabbee56a",
   "metadata": {},
   "outputs": [
    {
     "name": "stdout",
     "output_type": "stream",
     "text": [
      "   prod id product  price category\n",
      "0        1       A    694     sofa\n",
      "1        2       B    569     sofa\n",
      "2        3       C    639     sofa\n",
      "3        4       D    521      bed\n",
      "4        5       E    235    table\n",
      "Index(['prod id', 'product', 'price', 'category'], dtype='object')\n"
     ]
    }
   ],
   "source": [
    "import pandas as pd\n",
    "\n",
    "# Load the data\n",
    "file_path = 'D:\\downloads\\products.csv'\n",
    "products_df = pd.read_csv('D:\\downloads\\products.csv')\n",
    "\n",
    "# Display the first few rows of the dataframe\n",
    "print(products_df.head())\n",
    "\n",
    "# Check the columns\n",
    "print(products_df.columns)\n"
   ]
  },
  {
   "cell_type": "code",
   "execution_count": 6,
   "id": "10d4dc04-d951-4252-831a-56e84396c0e0",
   "metadata": {},
   "outputs": [
    {
     "name": "stdout",
     "output_type": "stream",
     "text": [
      "  product combined_features\n",
      "0       A            A sofa\n",
      "1       B            B sofa\n",
      "2       C            C sofa\n",
      "3       D             D bed\n",
      "4       E           E table\n"
     ]
    }
   ],
   "source": [
    "# Combine relevant features into a single string\n",
    "products_df['combined_features'] = products_df['product'] + ' ' + products_df['category'] \n",
    "\n",
    "# Display the combined features for verification\n",
    "print(products_df[['product', 'combined_features']].head())\n"
   ]
  },
  {
   "cell_type": "code",
   "execution_count": 11,
   "id": "ff2d2320-be04-4d4b-a93d-85edf0ad3938",
   "metadata": {},
   "outputs": [
    {
     "name": "stdout",
     "output_type": "stream",
     "text": [
      "[[1. 1. 1. 0. 0. 0. 0. 0.]\n",
      " [1. 1. 1. 0. 0. 0. 0. 0.]\n",
      " [1. 1. 1. 0. 0. 0. 0. 0.]\n",
      " [0. 0. 0. 1. 0. 0. 0. 0.]\n",
      " [0. 0. 0. 0. 1. 0. 0. 0.]\n",
      " [0. 0. 0. 0. 0. 1. 0. 0.]\n",
      " [0. 0. 0. 0. 0. 0. 1. 0.]\n",
      " [0. 0. 0. 0. 0. 0. 0. 1.]]\n"
     ]
    }
   ],
   "source": [
    "from sklearn.feature_extraction.text import TfidfVectorizer\n",
    "from sklearn.metrics.pairwise import cosine_similarity\n",
    "\n",
    "# Initialize the TF-IDF Vectorizer\n",
    "tfidf_vectorizer = TfidfVectorizer(stop_words='english')\n",
    "\n",
    "# Compute the TF-IDF matrix for the combined features\n",
    "tfidf_matrix = tfidf_vectorizer.fit_transform(products_df['combined_features'])\n",
    "\n",
    "# Compute the cosine similarity matrix\n",
    "cosine_sim = cosine_similarity(tfidf_matrix, tfidf_matrix)\n",
    "\n",
    "# Display the cosine similarity matrix for verification\n",
    "print(cosine_sim)\n"
   ]
  },
  {
   "cell_type": "code",
   "execution_count": 22,
   "id": "3d240b6c-9312-4eec-8626-db4be8236e98",
   "metadata": {},
   "outputs": [],
   "source": [
    "# Function to get the index of a product by product_name\n",
    "def get_index_from_product_name(product):\n",
    "    return products_df[products_df['product'] == product].index[0]\n",
    "\n",
    "# Function to get the product_name from an index\n",
    "def get_product_name_from_index(index):\n",
    "    return products_df.iloc[index]['product']\n",
    "\n",
    "# Function to recommend products\n",
    "def recommend_products(product, num_recommendations=5):\n",
    "     # Example: Recommend products similar to a given product_name\n",
    "     product_name_to_recommend = 'A'  # Replace with an actual product_name from your dataset\n",
    "     recommended_products = recommend_products(product_name_to_recommend)\n",
    "\n",
    "     print(\"Recommended products for product name\", product_name_to_recommend, \":\", recommended_products)\n"
   ]
  },
  {
   "cell_type": "code",
   "execution_count": 23,
   "id": "1bbf863c-a04e-4f58-b8a8-1043d73d6c2c",
   "metadata": {},
   "outputs": [
    {
     "name": "stdout",
     "output_type": "stream",
     "text": [
      "Most recommended product ID: 7\n"
     ]
    }
   ],
   "source": [
    "import pandas as pd\n",
    "\n",
    "# Read the CSV file into a DataFrame\n",
    "df = pd.read_csv(\"D:\\downloads\\orders.csv\")\n",
    "\n",
    "# Group by Product ID and sum the quantities sold\n",
    "product_quantities = df.groupby('prod id')['quantity'].sum()\n",
    "\n",
    "# Find the Product ID with the highest quantity sold\n",
    "most_recommended_prod_id = product_quantities.idxmax()\n",
    "\n",
    "print(\"Most recommended product ID:\", most_recommended_prod_id)\n"
   ]
  }
 ],
 "metadata": {
  "kernelspec": {
   "display_name": "Python 3 (ipykernel)",
   "language": "python",
   "name": "python3"
  },
  "language_info": {
   "codemirror_mode": {
    "name": "ipython",
    "version": 3
   },
   "file_extension": ".py",
   "mimetype": "text/x-python",
   "name": "python",
   "nbconvert_exporter": "python",
   "pygments_lexer": "ipython3",
   "version": "3.11.7"
  }
 },
 "nbformat": 4,
 "nbformat_minor": 5
}
